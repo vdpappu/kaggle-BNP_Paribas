{
 "cells": [
  {
   "cell_type": "code",
   "execution_count": 1,
   "metadata": {
    "collapsed": true
   },
   "outputs": [],
   "source": [
    "import pandas as pd\n",
    "import numpy as np\n",
    "import xgboost as xgb\n",
    "from xgboost.sklearn import XGBClassifier\n",
    "from sklearn.calibration import CalibratedClassifierCV"
   ]
  },
  {
   "cell_type": "code",
   "execution_count": 2,
   "metadata": {
    "collapsed": false
   },
   "outputs": [
    {
     "name": "stdout",
     "output_type": "stream",
     "text": [
      "Load data...\n"
     ]
    }
   ],
   "source": [
    "print('Load data...')\n",
    "train = pd.read_csv(\"./input/train_poly_rmCorr.csv\")\n",
    "target = train['TARGET'].values\n",
    "id_train= train['ID'].values\n",
    "train = train.drop(['ID','TARGET'],axis=1)\n",
    "test = pd.read_csv(\"./input/test_poly_rmCorr.csv\")\n",
    "id_test = test['ID'].values\n",
    "test = test.drop(['ID'],axis=1)\n",
    "\n",
    "#train['na_count'] = train.isnull().sum(axis=1)\n",
    "#test['na_count'] = test.isnull().sum(axis=1)`\n",
    "\n",
    "xgtrain = xgb.DMatrix(train.values, target)\n",
    "xgtest = xgb.DMatrix(test.values)"
   ]
  },
  {
   "cell_type": "code",
   "execution_count": 4,
   "metadata": {
    "collapsed": false
   },
   "outputs": [],
   "source": [
    "xgboost_params = { \n",
    "   \"objective\": \"binary:logistic\",\n",
    "   \"booster\": \"gbtree\",\n",
    "   \"eval_metric\": \"logloss\",\n",
    "   \"eta\": 0.1,\n",
    "   \"subsample\": 0.96,\n",
    "   \"colsample_bytree\": 0.45,\n",
    "   \"max_depth\": 11,\n",
    "   \"min_child_weight\":1,\n",
    "   \"num_parallel_tree\":1,\n",
    "   \"lambda\":0.2,\n",
    "   \"alpha\":0.2,\n",
    "   \"silent\":1,\n",
    "   \"n_estimators\":2000\n",
    "}\n",
    "\n",
    "\n",
    "#xgb.cv(xgboost_params,xgtrain,num_boost_round=2, nfold=5)"
   ]
  },
  {
   "cell_type": "code",
   "execution_count": 6,
   "metadata": {
    "collapsed": false
   },
   "outputs": [],
   "source": [
    "model = XGBClassifier(xgboost_params)\n",
    "#model_calib = CalibratedClassifierCV(model,method='isotonic', cv=5)"
   ]
  },
  {
   "cell_type": "code",
   "execution_count": 7,
   "metadata": {
    "collapsed": false
   },
   "outputs": [
    {
     "data": {
      "text/plain": [
       "XGBClassifier(base_score=0.5, colsample_bylevel=1, colsample_bytree=1,\n",
       "       gamma=0, learning_rate=0.1, max_delta_step=0,\n",
       "       max_depth={'eval_metric': 'logloss', 'n_estimators': 2000, 'alpha': 0.2, 'booster': 'gbtree', 'num_parallel_tree': 1, 'colsample_bytree': 0.45, 'silent': 1, 'min_child_weight': 1, 'subsample': 0.96, 'eta': 0.1, 'objective': 'binary:logistic', 'max_depth': 11, 'lambda': 0.2},\n",
       "       min_child_weight=1, missing=None, n_estimators=100, nthread=-1,\n",
       "       objective='binary:logistic', reg_alpha=0, reg_lambda=1,\n",
       "       scale_pos_weight=1, seed=0, silent=True, subsample=1)"
      ]
     },
     "execution_count": 7,
     "metadata": {},
     "output_type": "execute_result"
    }
   ],
   "source": [
    "model.fit(train.values,target) "
   ]
  },
  {
   "cell_type": "code",
   "execution_count": 9,
   "metadata": {
    "collapsed": false
   },
   "outputs": [],
   "source": [
    "test_pred = model.predict_proba(test.values)"
   ]
  },
  {
   "cell_type": "code",
   "execution_count": 10,
   "metadata": {
    "collapsed": false
   },
   "outputs": [
    {
     "data": {
      "text/plain": [
       "array([[ 0.23880839,  0.76119161],\n",
       "       [ 0.23880839,  0.76119161],\n",
       "       [ 0.23880839,  0.76119161],\n",
       "       ..., \n",
       "       [ 0.23880839,  0.76119161],\n",
       "       [ 0.23880839,  0.76119161],\n",
       "       [ 0.23880839,  0.76119161]], dtype=float32)"
      ]
     },
     "execution_count": 10,
     "metadata": {},
     "output_type": "execute_result"
    }
   ],
   "source": [
    "test_pred"
   ]
  },
  {
   "cell_type": "code",
   "execution_count": null,
   "metadata": {
    "collapsed": true
   },
   "outputs": [],
   "source": []
  }
 ],
 "metadata": {
  "kernelspec": {
   "display_name": "Python 2",
   "language": "python",
   "name": "python2"
  },
  "language_info": {
   "codemirror_mode": {
    "name": "ipython",
    "version": 2
   },
   "file_extension": ".py",
   "mimetype": "text/x-python",
   "name": "python",
   "nbconvert_exporter": "python",
   "pygments_lexer": "ipython2",
   "version": "2.7.6"
  }
 },
 "nbformat": 4,
 "nbformat_minor": 0
}
