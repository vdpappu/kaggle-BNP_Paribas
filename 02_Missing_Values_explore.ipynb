{
 "cells": [
  {
   "cell_type": "code",
   "execution_count": 32,
   "metadata": {
    "collapsed": true
   },
   "outputs": [],
   "source": [
    "import pandas as pd\n",
    "import numpy as np\n",
    "import xgboost as xgb\n",
    "\n",
    "from rpy2.robjects.packages import importr\n",
    "import rpy2.robjects as ro\n",
    "from rpy2.robjects import pandas2ri"
   ]
  },
  {
   "cell_type": "code",
   "execution_count": 33,
   "metadata": {
    "collapsed": false
   },
   "outputs": [
    {
     "name": "stdout",
     "output_type": "stream",
     "text": [
      "Load data...\n"
     ]
    }
   ],
   "source": [
    "print('Load data...')\n",
    "train = pd.read_csv(\"./input/train.csv\")\n",
    "target = train['target'].values\n",
    "train = train.drop(['ID','target'],axis=1)\n",
    "\n",
    "test = pd.read_csv(\"./input/test.csv\")\n",
    "id_test = test['ID'].values\n",
    "test = test.drop(['ID'],axis=1)"
   ]
  },
  {
   "cell_type": "code",
   "execution_count": 34,
   "metadata": {
    "collapsed": false
   },
   "outputs": [],
   "source": [
    "#create new feature for each feature which is true if it is NA and false otherwise\n",
    "df_naList_train = pd.DataFrame()\n",
    "df_naList_test = pd.DataFrame()\n",
    "\n",
    "for col in list(train):\n",
    "    temp_train = train[col].isnull().astype(int)\n",
    "    temp_test = test[col].isnull().astype(int)\n",
    "    \n",
    "    df_naList_train = pd.concat([df_naList_train,temp_train],axis=1)\n",
    "    df_naList_test = pd.concat([df_naList_test,temp_test],axis=1)"
   ]
  },
  {
   "cell_type": "code",
   "execution_count": 36,
   "metadata": {
    "collapsed": true
   },
   "outputs": [],
   "source": [
    "#Count NAs per row\n",
    "train['na_prop'] = ((train.isnull().sum(axis=1)/train.shape[1])*100).round(2)\n",
    "test['na_prop'] = ((test.isnull().sum(axis=1)/test.shape[1])*100).round(2)"
   ]
  },
  {
   "cell_type": "code",
   "execution_count": 82,
   "metadata": {
    "collapsed": false,
    "scrolled": true
   },
   "outputs": [
    {
     "name": "stderr",
     "output_type": "stream",
     "text": [
      "/usr/local/lib/python2.7/dist-packages/ipykernel/__main__.py:14: FutureWarning: sort(columns=....) is deprecated, use sort_values(by=.....)\n"
     ]
    }
   ],
   "source": [
    "train_NACounts = pd.DataFrame(train.count(axis=0)).reset_index()\n",
    "test_NACounts = pd.DataFrame(test.count(axis=0)).reset_index()\n",
    "\n",
    "train_NACounts.columns = ['Param','NA_Count_Train']\n",
    "test_NACounts.columns = ['Param','NA_Count_Test']\n",
    "\n",
    "train_NACounts['NA_Count_Train'] = len(train)-train_NACounts['NA_Count_Train']\n",
    "test_NACounts['NA_Count_Test'] = len(test)-test_NACounts['NA_Count_Test']\n",
    "\n",
    "train_NACounts['NA_Count_Train_Perc'] = (train_NACounts['NA_Count_Train']/len(train))*100\n",
    "test_NACounts['NA_Count_Test_Perc'] = (test_NACounts['NA_Count_Test']/len(test))*100\n",
    "\n",
    "merged_NACounts = train_NACounts.merge(test_NACounts,on=\"Param\")\n",
    "merged_NACounts.sort(['NA_Count_Train_Perc'],ascending=False, inplace=True)\n",
    "#77.099237\n",
    "#77.862595"
   ]
  },
  {
   "cell_type": "code",
   "execution_count": 131,
   "metadata": {
    "collapsed": false
   },
   "outputs": [],
   "source": [
    "#Filter the train subset with least number of missing values per column and see what parameters are missing\n",
    "train_nearComp = train[train['na_prop']<15]"
   ]
  },
  {
   "cell_type": "code",
   "execution_count": 132,
   "metadata": {
    "collapsed": false
   },
   "outputs": [
    {
     "name": "stderr",
     "output_type": "stream",
     "text": [
      "/usr/local/lib/python2.7/dist-packages/ipykernel/__main__.py:3: FutureWarning: sort(columns=....) is deprecated, use sort_values(by=.....)\n",
      "  app.launch_new_instance()\n"
     ]
    }
   ],
   "source": [
    "try_ = pd.DataFrame(train_nearComp.count(axis=0)).reset_index()\n",
    "try_.columns = ['Param','NA_Count_Train']\n",
    "try_.sort(['NA_Count_Train'],ascending=True, inplace=True)"
   ]
  },
  {
   "cell_type": "code",
   "execution_count": null,
   "metadata": {
    "collapsed": false
   },
   "outputs": [],
   "source": [
    "train.v56.value_counts(dropna=False)"
   ]
  },
  {
   "cell_type": "code",
   "execution_count": 134,
   "metadata": {
    "collapsed": false
   },
   "outputs": [
    {
     "data": {
      "text/plain": [
       "0.76     28488\n",
       "0.00     17756\n",
       "1.52     14179\n",
       "2.27      1690\n",
       "3.03      1377\n",
       "3.79        41\n",
       "4.55        33\n",
       "5.30        16\n",
       "6.06         5\n",
       "6.82         5\n",
       "7.58         4\n",
       "9.85         4\n",
       "12.12        4\n",
       "9.09         3\n",
       "13.64        3\n",
       "10.61        1\n",
       "8.33         1\n",
       "12.88        1\n",
       "Name: na_prop, dtype: int64"
      ]
     },
     "execution_count": 134,
     "metadata": {},
     "output_type": "execute_result"
    }
   ],
   "source": [
    "train_nearComp.na_prop.value_counts()"
   ]
  },
  {
   "cell_type": "code",
   "execution_count": 136,
   "metadata": {
    "collapsed": false,
    "scrolled": true
   },
   "outputs": [
    {
     "data": {
      "text/plain": [
       "0.76     28488\n",
       "76.52    26967\n",
       "0.00     17756\n",
       "77.27    15262\n",
       "1.52     14179\n",
       "75.76     4417\n",
       "2.27      1690\n",
       "3.03      1377\n",
       "62.12     1049\n",
       "78.03      708\n",
       "18.94      570\n",
       "62.88      458\n",
       "61.36      457\n",
       "19.70      254\n",
       "78.79      216\n",
       "79.55       83\n",
       "20.45       47\n",
       "63.64       43\n",
       "3.79        41\n",
       "64.39       41\n",
       "81.06       35\n",
       "4.55        33\n",
       "81.82       26\n",
       "80.30       23\n",
       "49.24       19\n",
       "5.30        16\n",
       "48.48       11\n",
       "82.58        6\n",
       "6.82         5\n",
       "6.06         5\n",
       "50.00        5\n",
       "12.12        4\n",
       "9.85         4\n",
       "7.58         4\n",
       "9.09         3\n",
       "13.64        3\n",
       "21.21        2\n",
       "25.00        1\n",
       "8.33         1\n",
       "89.39        1\n",
       "66.67        1\n",
       "65.91        1\n",
       "10.61        1\n",
       "24.24        1\n",
       "51.52        1\n",
       "83.33        1\n",
       "21.97        1\n",
       "28.79        1\n",
       "12.88        1\n",
       "28.03        1\n",
       "65.15        1\n",
       "Name: na_prop, dtype: int64"
      ]
     },
     "execution_count": 136,
     "metadata": {},
     "output_type": "execute_result"
    }
   ],
   "source": [
    "train['na_prop'].value_counts()"
   ]
  },
  {
   "cell_type": "code",
   "execution_count": null,
   "metadata": {
    "collapsed": true
   },
   "outputs": [],
   "source": []
  }
 ],
 "metadata": {
  "kernelspec": {
   "display_name": "Python 2",
   "language": "python",
   "name": "python2"
  },
  "language_info": {
   "codemirror_mode": {
    "name": "ipython",
    "version": 2
   },
   "file_extension": ".py",
   "mimetype": "text/x-python",
   "name": "python",
   "nbconvert_exporter": "python",
   "pygments_lexer": "ipython2",
   "version": "2.7.6"
  }
 },
 "nbformat": 4,
 "nbformat_minor": 0
}
