{
 "cells": [
  {
   "cell_type": "markdown",
   "metadata": {
    "collapsed": true
   },
   "source": [
    "## Function Definition"
   ]
  },
  {
   "cell_type": "code",
   "execution_count": null,
   "metadata": {
    "collapsed": true
   },
   "outputs": [],
   "source": [
    "def getProbTable(x):\n",
    "    val_counts = (pd.DataFrame(x.value_counts())).reset_index()\n",
    "    val_counts.columns = ['Value','Count']\n",
    "    val_counts[\"Prob\"] = val_counts['Count'].map(lambda x: x/float(sum(val_counts.Count)))\n",
    "    val_counts.drop(\"Count\",axis=1,inplace=True)\n",
    "    return val_counts.set_index('Value').T.to_dict('list')"
   ]
  },
  {
   "cell_type": "markdown",
   "metadata": {},
   "source": [
    "## Load Data"
   ]
  },
  {
   "cell_type": "code",
   "execution_count": null,
   "metadata": {
    "collapsed": true
   },
   "outputs": [],
   "source": [
    "import pandas as pd\n",
    "import numpy as np\n",
    "import csv"
   ]
  },
  {
   "cell_type": "code",
   "execution_count": null,
   "metadata": {
    "collapsed": false
   },
   "outputs": [],
   "source": [
    "print('Load data...')\n",
    "train = pd.read_csv(\"./input/train.csv\")\n",
    "target = train['target'].values\n",
    "id_train= train['ID'].values\n",
    "train = train.drop(['ID','target'],axis=1)\n",
    "test = pd.read_csv(\"./input/test.csv\")\n",
    "id_test = test['ID'].values\n",
    "test = test.drop(['ID'],axis=1)"
   ]
  },
  {
   "cell_type": "markdown",
   "metadata": {},
   "source": [
    "## Filling missing values in categorical parameters\n",
    "## Categorical to numerical conversion"
   ]
  },
  {
   "cell_type": "code",
   "execution_count": null,
   "metadata": {
    "collapsed": false
   },
   "outputs": [],
   "source": [
    "obj_params = list()\n",
    "\n",
    "for (train_name, train_series), (test_name, test_series) in zip(train.iteritems(),test.iteritems()):\n",
    "    if train_series.dtype == 'O':\n",
    "        obj_params.append(train_name)\n",
    "\n",
    "#train_obj = train[obj_params]\n",
    "#test_obj = test[obj_params]\n",
    "\n",
    "train_obj = train[obj_params]\n",
    "test_obj = test[obj_params]\n",
    "\n",
    "#train_obj = train_obj.drop(\"v22\",axis=1)\n",
    "#test_obj = test_obj.drop(\"v22\",axis=1)\n"
   ]
  },
  {
   "cell_type": "code",
   "execution_count": null,
   "metadata": {
    "collapsed": false,
    "scrolled": true
   },
   "outputs": [],
   "source": [
    "#check number of NAs in each column\n",
    "for (train_obj_name, train_obj_series), (test_obj_name, test_obj_series) in zip(train_obj.iteritems(),test_obj.iteritems()):\n",
    "    \n",
    "    if(train_obj_series.isnull().sum()>(len(train_obj_series)/3)):\n",
    "        train_obj.loc[train_obj_series.isnull(), train_obj_name] = \"NOT_CAPTURED\"\n",
    "    else:\n",
    "        #fill others with most frequent value\n",
    "        train_obj.loc[train_obj_series.isnull(), train_obj_name] = train_obj_series.mode().iloc[0]\n",
    "    \n",
    "    if(test_obj_series.isnull().sum()>(len(test_obj_series)/3)):\n",
    "        test_obj.loc[test_obj_series.isnull(), test_obj_name] = \"NOT_CAPTURED\"\n",
    "    else:\n",
    "        #fill others with most frequent value\n",
    "        test_obj.loc[test_obj_series.isnull(), test_obj_name] = test_obj_series.mode().iloc[0]\n",
    "\n",
    "for (train_obj_name, train_obj_series), (test_obj_name, test_obj_series) in zip(train_obj.iteritems(),test_obj.iteritems()):\n",
    "    repl_nums = getProbTable(train_obj_series)\n",
    "    train_obj[train_obj_name].replace(repl_nums,inplace=True)\n",
    "\n",
    "    repl_nums = getProbTable(test_obj_series)\n",
    "    test_obj[test_obj_name].replace(repl_nums,inplace=True)"
   ]
  },
  {
   "cell_type": "code",
   "execution_count": 28,
   "metadata": {
    "collapsed": false
   },
   "outputs": [],
   "source": [
    "train = train.drop(obj_params,axis=1)\n",
    "test = test.drop(obj_params,axis=1)"
   ]
  },
  {
   "cell_type": "markdown",
   "metadata": {
    "collapsed": false
   },
   "source": [
    "## Filling missing values in numerical columns"
   ]
  },
  {
   "cell_type": "code",
   "execution_count": 15,
   "metadata": {
    "collapsed": false
   },
   "outputs": [],
   "source": [
    "#Add number of missing values per row as a parameter\n",
    "train['na_count'] = train.isnull().sum(axis=1)\n",
    "test['na_count'] = test.isnull().sum(axis=1)"
   ]
  },
  {
   "cell_type": "code",
   "execution_count": 18,
   "metadata": {
    "collapsed": false
   },
   "outputs": [],
   "source": [
    "for (train_name, train_series), (test_name, test_series) in zip(train.iteritems(),test.iteritems()):\n",
    "    tmp_len = len(train[train_series.isnull()])\n",
    "    if tmp_len>0:\n",
    "            train.loc[train_series.isnull(), train_name] = -9999 #train_series.mean()\n",
    "    tmp_len = len(test[test_series.isnull()])\n",
    "    if tmp_len>0:\n",
    "            test.loc[test_series.isnull(), test_name] = -9999 #train_series.mean()  #TODO"
   ]
  },
  {
   "cell_type": "code",
   "execution_count": 29,
   "metadata": {
    "collapsed": false
   },
   "outputs": [],
   "source": [
    "train = pd.concat([train,train_obj],axis=1)\n",
    "test = pd.concat([test,test_obj],axis=1)\n",
    "train['target'] = target\n",
    "#test['target'] = id_test\n",
    "train['ID'] = id_train\n",
    "test['ID'] = id_test\n",
    "\n",
    "train.to_csv(\"train_CatgProbs.csv\",index=False)\n",
    "test.to_csv(\"test_CatgProbs.csv\",index=False)"
   ]
  },
  {
   "cell_type": "code",
   "execution_count": 31,
   "metadata": {
    "collapsed": false
   },
   "outputs": [
    {
     "data": {
      "text/plain": [
       "1    87021\n",
       "0    27300\n",
       "Name: target, dtype: int64"
      ]
     },
     "execution_count": 31,
     "metadata": {},
     "output_type": "execute_result"
    }
   ],
   "source": [
    "train['target'].value_counts()"
   ]
  },
  {
   "cell_type": "code",
   "execution_count": null,
   "metadata": {
    "collapsed": false
   },
   "outputs": [],
   "source": []
  },
  {
   "cell_type": "code",
   "execution_count": null,
   "metadata": {
    "collapsed": true
   },
   "outputs": [],
   "source": []
  }
 ],
 "metadata": {
  "kernelspec": {
   "display_name": "Python 2",
   "language": "python",
   "name": "python2"
  },
  "language_info": {
   "codemirror_mode": {
    "name": "ipython",
    "version": 2
   },
   "file_extension": ".py",
   "mimetype": "text/x-python",
   "name": "python",
   "nbconvert_exporter": "python",
   "pygments_lexer": "ipython2",
   "version": "2.7.6"
  }
 },
 "nbformat": 4,
 "nbformat_minor": 0
}
