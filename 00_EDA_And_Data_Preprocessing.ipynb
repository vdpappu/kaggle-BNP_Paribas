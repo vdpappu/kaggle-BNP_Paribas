{
 "cells": [
  {
   "cell_type": "code",
   "execution_count": 32,
   "metadata": {
    "collapsed": false
   },
   "outputs": [],
   "source": [
    "import pandas as pd\n",
    "import numpy as np\n",
    "import csv\n",
    "import xgboost as xgb\n",
    "from sklearn.ensemble import ExtraTreesClassifier\n",
    "import boruta_py2 as brt\n",
    "from sklearn.ensemble import RandomForestClassifier\n",
    "import operator\n",
    "\n",
    "from rpy2.robjects.packages import importr\n",
    "import rpy2.robjects as ro\n",
    "from rpy2.robjects import pandas2ri"
   ]
  },
  {
   "cell_type": "code",
   "execution_count": 33,
   "metadata": {
    "collapsed": true
   },
   "outputs": [],
   "source": [
    "def ceate_feature_map(features):\n",
    "    outfile = open('xgb.fmap', 'w')\n",
    "    i = 0\n",
    "    for feat in features:\n",
    "        outfile.write('{0}\\t{1}\\tq\\n'.format(i, feat))\n",
    "        i = i + 1\n",
    "\n",
    "    outfile.close()"
   ]
  },
  {
   "cell_type": "code",
   "execution_count": 34,
   "metadata": {
    "collapsed": false
   },
   "outputs": [
    {
     "name": "stdout",
     "output_type": "stream",
     "text": [
      "Load data...\n"
     ]
    }
   ],
   "source": [
    "print('Load data...')\n",
    "train = pd.read_csv(\"./input/train.csv\")\n",
    "test = pd.read_csv(\"./input/test.csv\")\n",
    "test['target'] = 5\n",
    "\n",
    "df_merged = pd.concat([train,test])\n",
    "target = df_merged['target'].values\n",
    "id_merged= df_merged['ID'].values\n",
    "\n",
    "df_merged = df_merged.drop([\"target\",\"ID\"],axis=1)"
   ]
  },
  {
   "cell_type": "code",
   "execution_count": 35,
   "metadata": {
    "collapsed": true
   },
   "outputs": [],
   "source": [
    "cat_columns = list()\n",
    "num_columns = list()\n",
    "for col in list(df_merged):\n",
    "    if df_merged[col].dtype == 'O':\n",
    "        cat_columns.append(col)\n",
    "    else:\n",
    "        num_columns.append(col)\n",
    "        #print col\n",
    "        #print len(df_merged[col].unique())\n",
    "#V22 has high cardinality"
   ]
  },
  {
   "cell_type": "code",
   "execution_count": 36,
   "metadata": {
    "collapsed": false
   },
   "outputs": [],
   "source": [
    "#Add number of NA's per row as feature\n",
    "df_merged['na_count'] = df_merged.isnull().sum(axis=1)"
   ]
  },
  {
   "cell_type": "code",
   "execution_count": 37,
   "metadata": {
    "collapsed": false
   },
   "outputs": [],
   "source": [
    "#For each parameter, add corresponding column if the value is non-NA\n",
    "df_naList = pd.DataFrame()\n",
    "for col in list(df_merged):\n",
    "    temp = df_merged[col].isnull().astype(int)\n",
    "    df_naList = pd.concat([df_naList,temp],axis=1)"
   ]
  },
  {
   "cell_type": "code",
   "execution_count": 38,
   "metadata": {
    "collapsed": false
   },
   "outputs": [],
   "source": [
    "cols = list(df_merged)\n",
    "colNames = [s + \"_isNA\" for s in cols]\n",
    "\n",
    "df_naList.columns = colNames\n",
    "df_merged = pd.concat([df_merged,df_naList],axis=1)"
   ]
  },
  {
   "cell_type": "code",
   "execution_count": 39,
   "metadata": {
    "collapsed": false
   },
   "outputs": [],
   "source": [
    "#Filling NAs\n",
    "for (df_merged_name, df_merged_series) in (df_merged.iteritems()):\n",
    "    if df_merged_series.dtype == 'O':\n",
    "        df_merged.loc[df_merged_series.isnull(),df_merged_name] = \"NOT_CAPTURED\"\n",
    "    else:\n",
    "        df_merged.loc[df_merged_series.isnull(), df_merged_name] = -9999"
   ]
  },
  {
   "cell_type": "code",
   "execution_count": 40,
   "metadata": {
    "collapsed": false,
    "scrolled": true
   },
   "outputs": [],
   "source": [
    "#One Hot encoding of categorical features except for V22\n",
    "cat_columns.remove('v22')\n",
    "df_categ = df_merged[cat_columns]"
   ]
  },
  {
   "cell_type": "code",
   "execution_count": 41,
   "metadata": {
    "collapsed": false
   },
   "outputs": [],
   "source": [
    "df_cat_Ohe = pd.get_dummies(df_categ)\n",
    "df_merged = df_merged.drop(cat_columns,axis=1)\n",
    "df_merged = pd.concat([df_merged,df_cat_Ohe],axis=1)"
   ]
  },
  {
   "cell_type": "code",
   "execution_count": 42,
   "metadata": {
    "collapsed": true
   },
   "outputs": [],
   "source": [
    "cat_columns.append('v22')"
   ]
  },
  {
   "cell_type": "code",
   "execution_count": 43,
   "metadata": {
    "collapsed": false
   },
   "outputs": [],
   "source": [
    "#Generate categorical probabilities - For now, use the existing file and concatinat\n",
    "cat_Probs = pd.read_csv(\"./input/Transformed_Merged_Train_Test.csv\")\n",
    "cat_Probs = cat_Probs[cat_columns]\n",
    "cat_Probs = cat_Probs.reset_index(drop=True)\n",
    "df_merged = df_merged.drop('v22',axis=1)\n",
    "df_merged = df_merged.reset_index(drop=True)\n",
    "df_merged = pd.concat([df_merged,cat_Probs],axis=1)"
   ]
  },
  {
   "cell_type": "code",
   "execution_count": 44,
   "metadata": {
    "collapsed": false
   },
   "outputs": [],
   "source": [
    "#v22_freqs = dict( train['v22'].value_counts() )\n",
    "df_merged['target'] = target\n",
    "df_merged['id_merged']= id_merged\n",
    "train = df_merged[df_merged.target != 5]\n",
    "test = df_merged[df_merged.target == 5]\n",
    "\n",
    "train_target = train.target\n",
    "train = train.drop(['target','id_merged'],axis=1)\n",
    "testID = test['id_merged']\n",
    "test = test.drop(['target','id_merged'],axis=1)"
   ]
  },
  {
   "cell_type": "code",
   "execution_count": 47,
   "metadata": {
    "collapsed": false
   },
   "outputs": [],
   "source": [
    "rm_list = list()\n",
    "for col in list(train):\n",
    "    if float(np.std(train[col])) == 0.0:\n",
    "        rm_list.append(col)"
   ]
  },
  {
   "cell_type": "code",
   "execution_count": 48,
   "metadata": {
    "collapsed": false
   },
   "outputs": [],
   "source": [
    "train = train.drop(rm_list,axis=1)\n",
    "test = test.drop(rm_list,axis=1)"
   ]
  },
  {
   "cell_type": "code",
   "execution_count": 18,
   "metadata": {
    "collapsed": false
   },
   "outputs": [],
   "source": [
    "#remove highly correlating parameters\n",
    "pandas2ri.activate()\n",
    "r_corrMat = ro.r.cor(train)"
   ]
  },
  {
   "cell_type": "code",
   "execution_count": 51,
   "metadata": {
    "collapsed": false,
    "scrolled": true
   },
   "outputs": [
    {
     "data": {
      "text/plain": [
       "242"
      ]
     },
     "execution_count": 51,
     "metadata": {},
     "output_type": "execute_result"
    }
   ],
   "source": [
    "caret = importr('caret')\n",
    "rm_params = caret.findCorrelation(r_corrMat,cutoff = 0.99,names = True)\n",
    "rm_params =list(rm_params)\n",
    "len(rm_params)"
   ]
  },
  {
   "cell_type": "code",
   "execution_count": 22,
   "metadata": {
    "collapsed": false,
    "scrolled": true
   },
   "outputs": [],
   "source": [
    "train = train.drop(rm_params,axis=1)\n",
    "test = test.drop(rm_params,axis=1)"
   ]
  },
  {
   "cell_type": "code",
   "execution_count": 56,
   "metadata": {
    "collapsed": false
   },
   "outputs": [
    {
     "data": {
      "text/plain": [
       "621"
      ]
     },
     "execution_count": 56,
     "metadata": {},
     "output_type": "execute_result"
    }
   ],
   "source": [
    "#Feature Selection module\n",
    "#low varying params - do not do it for now\n",
    "\n",
    "#var_threshold = 0.1\n",
    "#low_var_params = list()\n",
    "\n",
    "#for col in list(train):\n",
    "#    if np.var(train[col]<var_threshold):\n",
    "#        #print np.var(train[col])\n",
    "#        low_var_params.append(col)\n",
    "        \n",
    "#len(low_var_params)"
   ]
  },
  {
   "cell_type": "code",
   "execution_count": null,
   "metadata": {
    "collapsed": false
   },
   "outputs": [],
   "source": [
    "#recursive feature elimination\n",
    "from sklearn.svm import SVC\n",
    "from sklearn.feature_selection import RFE\n",
    "\n",
    "svc = SVC(kernel=\"linear\", C=1)\n",
    "rfe = RFE(estimator=svc, n_features_to_select=1, step=1)\n",
    "rfe.fit(train, train_target)\n"
   ]
  },
  {
   "cell_type": "code",
   "execution_count": 74,
   "metadata": {
    "collapsed": true
   },
   "outputs": [],
   "source": [
    "xgtrain = xgb.DMatrix(train.values, train_target)\n",
    "xgtest = xgb.DMatrix(test.values)"
   ]
  },
  {
   "cell_type": "code",
   "execution_count": 106,
   "metadata": {
    "collapsed": false
   },
   "outputs": [],
   "source": [
    "# XGBoost params:\n",
    "xgboost_params = { \n",
    "   \"objective\": \"binary:logistic\",\n",
    "   \"booster\": \"gbtree\",\n",
    "   \"eval_metric\": \"auc\",\n",
    "   \"eta\": 0.01, # 0.06, #0.01,\n",
    "   #\"min_child_weight\": 240,\n",
    "   \"subsample\": 0.9,\n",
    "   \"colsample_bytree\": 0.7,\n",
    "   \"max_depth\": 7\n",
    "}"
   ]
  },
  {
   "cell_type": "code",
   "execution_count": 58,
   "metadata": {
    "collapsed": false
   },
   "outputs": [
    {
     "name": "stdout",
     "output_type": "stream",
     "text": [
      "Fit the model...\n"
     ]
    }
   ],
   "source": [
    "print('Fit the model...')\n",
    "boost_round = 2000 #CHANGE THIS BEFORE START\n",
    "clf = xgb.train(xgboost_params,xgtrain,num_boost_round=boost_round,verbose_eval=True,maximize=False)"
   ]
  },
  {
   "cell_type": "code",
   "execution_count": 61,
   "metadata": {
    "collapsed": false
   },
   "outputs": [],
   "source": [
    "#Run xgboost parameter importance to see if that is matching with current top\n",
    "features = list(train)\n",
    "ceate_feature_map(features)"
   ]
  },
  {
   "cell_type": "code",
   "execution_count": 64,
   "metadata": {
    "collapsed": false
   },
   "outputs": [
    {
     "name": "stderr",
     "output_type": "stream",
     "text": [
      "/usr/local/lib/python2.7/dist-packages/ipykernel/__main__.py:6: FutureWarning: sort(columns=....) is deprecated, use sort_values(by=.....)\n"
     ]
    }
   ],
   "source": [
    "importance = clf.get_fscore(fmap='xgb.fmap')\n",
    "importance = sorted(importance.items(), key=operator.itemgetter(1))\n",
    "\n",
    "df_PI = pd.DataFrame(importance, columns=['feature', 'fscore'])\n",
    "df_PI['fscore'] = df_PI['fscore'] / df_PI['fscore'].sum()\n",
    "df_PI= df_PI.sort(['fscore'],ascending=False)"
   ]
  },
  {
   "cell_type": "code",
   "execution_count": 68,
   "metadata": {
    "collapsed": false
   },
   "outputs": [],
   "source": [
    "params_prep = list(df_PI['feature'])"
   ]
  },
  {
   "cell_type": "code",
   "execution_count": 84,
   "metadata": {
    "collapsed": false
   },
   "outputs": [],
   "source": [
    "params_200 = params_prep[:200]\n",
    "params_150 = params_prep[:150]\n",
    "params_125 = params_prep[:125]\n",
    "params_100 = params_prep[:100]\n",
    "params_75 = params_prep[:75]\n",
    "params_50 = params_prep[:50]"
   ]
  },
  {
   "cell_type": "code",
   "execution_count": 75,
   "metadata": {
    "collapsed": false
   },
   "outputs": [
    {
     "data": {
      "text/html": [
       "<div>\n",
       "<table border=\"1\" class=\"dataframe\">\n",
       "  <thead>\n",
       "    <tr style=\"text-align: right;\">\n",
       "      <th></th>\n",
       "      <th>test-auc-mean</th>\n",
       "      <th>test-auc-std</th>\n",
       "      <th>train-auc-mean</th>\n",
       "      <th>train-auc-std</th>\n",
       "    </tr>\n",
       "  </thead>\n",
       "  <tbody>\n",
       "    <tr>\n",
       "      <th>0</th>\n",
       "      <td>0.722229</td>\n",
       "      <td>0.017961</td>\n",
       "      <td>0.732297</td>\n",
       "      <td>0.018799</td>\n",
       "    </tr>\n",
       "    <tr>\n",
       "      <th>1</th>\n",
       "      <td>0.729386</td>\n",
       "      <td>0.015625</td>\n",
       "      <td>0.739713</td>\n",
       "      <td>0.016720</td>\n",
       "    </tr>\n",
       "    <tr>\n",
       "      <th>2</th>\n",
       "      <td>0.732184</td>\n",
       "      <td>0.016959</td>\n",
       "      <td>0.742613</td>\n",
       "      <td>0.017479</td>\n",
       "    </tr>\n",
       "    <tr>\n",
       "      <th>3</th>\n",
       "      <td>0.739530</td>\n",
       "      <td>0.008364</td>\n",
       "      <td>0.750530</td>\n",
       "      <td>0.007829</td>\n",
       "    </tr>\n",
       "    <tr>\n",
       "      <th>4</th>\n",
       "      <td>0.742531</td>\n",
       "      <td>0.005147</td>\n",
       "      <td>0.753725</td>\n",
       "      <td>0.004083</td>\n",
       "    </tr>\n",
       "    <tr>\n",
       "      <th>5</th>\n",
       "      <td>0.743455</td>\n",
       "      <td>0.003900</td>\n",
       "      <td>0.754965</td>\n",
       "      <td>0.002073</td>\n",
       "    </tr>\n",
       "    <tr>\n",
       "      <th>6</th>\n",
       "      <td>0.743379</td>\n",
       "      <td>0.004181</td>\n",
       "      <td>0.755139</td>\n",
       "      <td>0.002959</td>\n",
       "    </tr>\n",
       "    <tr>\n",
       "      <th>7</th>\n",
       "      <td>0.744059</td>\n",
       "      <td>0.003541</td>\n",
       "      <td>0.756039</td>\n",
       "      <td>0.001935</td>\n",
       "    </tr>\n",
       "    <tr>\n",
       "      <th>8</th>\n",
       "      <td>0.744737</td>\n",
       "      <td>0.003259</td>\n",
       "      <td>0.757141</td>\n",
       "      <td>0.001357</td>\n",
       "    </tr>\n",
       "    <tr>\n",
       "      <th>9</th>\n",
       "      <td>0.745048</td>\n",
       "      <td>0.003004</td>\n",
       "      <td>0.757556</td>\n",
       "      <td>0.001083</td>\n",
       "    </tr>\n",
       "  </tbody>\n",
       "</table>\n",
       "</div>"
      ],
      "text/plain": [
       "   test-auc-mean  test-auc-std  train-auc-mean  train-auc-std\n",
       "0       0.722229      0.017961        0.732297       0.018799\n",
       "1       0.729386      0.015625        0.739713       0.016720\n",
       "2       0.732184      0.016959        0.742613       0.017479\n",
       "3       0.739530      0.008364        0.750530       0.007829\n",
       "4       0.742531      0.005147        0.753725       0.004083\n",
       "5       0.743455      0.003900        0.754965       0.002073\n",
       "6       0.743379      0.004181        0.755139       0.002959\n",
       "7       0.744059      0.003541        0.756039       0.001935\n",
       "8       0.744737      0.003259        0.757141       0.001357\n",
       "9       0.745048      0.003004        0.757556       0.001083"
      ]
     },
     "execution_count": 75,
     "metadata": {},
     "output_type": "execute_result"
    }
   ],
   "source": [
    "xgb.cv(xgboost_params,xgtrain,num_boost_round=10, nfold=5)"
   ]
  },
  {
   "cell_type": "code",
   "execution_count": 117,
   "metadata": {
    "collapsed": false
   },
   "outputs": [],
   "source": [
    "train_200 = train[params_200]\n",
    "xgtrain_200 = xgb.DMatrix(train_200.values, train_target)\n",
    "\n",
    "train_150 = train[params_150]\n",
    "test_150 = test[params_150]\n",
    "xgtrain_150 = xgb.DMatrix(train_150.values, train_target)\n",
    "xgtest_150 = xgb.DMatrix(test_150.values)\n",
    "\n",
    "train_125 = train[params_125]\n",
    "xgtrain_125 = xgb.DMatrix(train_125.values, train_target)\n",
    "\n",
    "train_100 = train[params_100]\n",
    "xgtrain_100 = xgb.DMatrix(train_100.values, train_target)\n",
    "\n",
    "train_75 = train[params_75]\n",
    "xgtrain_75 = xgb.DMatrix(train_75.values, train_target)\n",
    "\n",
    "train_50 = train[params_50]\n",
    "xgtrain_50 = xgb.DMatrix(train_50.values, train_target)"
   ]
  },
  {
   "cell_type": "code",
   "execution_count": 107,
   "metadata": {
    "collapsed": false
   },
   "outputs": [],
   "source": [
    "cv_200 = xgb.cv(xgboost_params,xgtrain_200,num_boost_round=1, nfold=5)\n",
    "cv_150 = xgb.cv(xgboost_params,xgtrain_150,num_boost_round=1, nfold=5)\n",
    "cv_125 = xgb.cv(xgboost_params,xgtrain_125,num_boost_round=1, nfold=5)\n",
    "cv_100 = xgb.cv(xgboost_params,xgtrain_100,num_boost_round=1, nfold=5)\n",
    "cv_75 = xgb.cv(xgboost_params,xgtrain_75,num_boost_round=1, nfold=5)\n",
    "cv_50 = xgb.cv(xgboost_params,xgtrain_50,num_boost_round=1, nfold=5)"
   ]
  },
  {
   "cell_type": "code",
   "execution_count": 91,
   "metadata": {
    "collapsed": false
   },
   "outputs": [],
   "source": [
    "merged = pd.concat([cv_200,cv_150,cv_125,cv_100,cv_75,cv_50])"
   ]
  },
  {
   "cell_type": "code",
   "execution_count": 108,
   "metadata": {
    "collapsed": false
   },
   "outputs": [
    {
     "data": {
      "text/html": [
       "<div>\n",
       "<table border=\"1\" class=\"dataframe\">\n",
       "  <thead>\n",
       "    <tr style=\"text-align: right;\">\n",
       "      <th></th>\n",
       "      <th>test-auc-mean</th>\n",
       "      <th>test-auc-std</th>\n",
       "      <th>train-auc-mean</th>\n",
       "      <th>train-auc-std</th>\n",
       "    </tr>\n",
       "  </thead>\n",
       "  <tbody>\n",
       "    <tr>\n",
       "      <th>0</th>\n",
       "      <td>0.734236</td>\n",
       "      <td>0.003747</td>\n",
       "      <td>0.744638</td>\n",
       "      <td>0.001068</td>\n",
       "    </tr>\n",
       "  </tbody>\n",
       "</table>\n",
       "</div>"
      ],
      "text/plain": [
       "   test-auc-mean  test-auc-std  train-auc-mean  train-auc-std\n",
       "0       0.734236      0.003747        0.744638       0.001068"
      ]
     },
     "execution_count": 108,
     "metadata": {},
     "output_type": "execute_result"
    }
   ],
   "source": [
    "cv_150"
   ]
  },
  {
   "cell_type": "code",
   "execution_count": 109,
   "metadata": {
    "collapsed": false
   },
   "outputs": [
    {
     "data": {
      "text/html": [
       "<div>\n",
       "<table border=\"1\" class=\"dataframe\">\n",
       "  <thead>\n",
       "    <tr style=\"text-align: right;\">\n",
       "      <th></th>\n",
       "      <th>test-auc-mean</th>\n",
       "      <th>test-auc-std</th>\n",
       "      <th>train-auc-mean</th>\n",
       "      <th>train-auc-std</th>\n",
       "    </tr>\n",
       "  </thead>\n",
       "  <tbody>\n",
       "    <tr>\n",
       "      <th>0</th>\n",
       "      <td>0.718324</td>\n",
       "      <td>0.014959</td>\n",
       "      <td>0.729029</td>\n",
       "      <td>0.016208</td>\n",
       "    </tr>\n",
       "  </tbody>\n",
       "</table>\n",
       "</div>"
      ],
      "text/plain": [
       "   test-auc-mean  test-auc-std  train-auc-mean  train-auc-std\n",
       "0       0.718324      0.014959        0.729029       0.016208"
      ]
     },
     "execution_count": 109,
     "metadata": {},
     "output_type": "execute_result"
    }
   ],
   "source": [
    "cv_125"
   ]
  },
  {
   "cell_type": "code",
   "execution_count": 110,
   "metadata": {
    "collapsed": false
   },
   "outputs": [
    {
     "data": {
      "text/html": [
       "<div>\n",
       "<table border=\"1\" class=\"dataframe\">\n",
       "  <thead>\n",
       "    <tr style=\"text-align: right;\">\n",
       "      <th></th>\n",
       "      <th>test-auc-mean</th>\n",
       "      <th>test-auc-std</th>\n",
       "      <th>train-auc-mean</th>\n",
       "      <th>train-auc-std</th>\n",
       "    </tr>\n",
       "  </thead>\n",
       "  <tbody>\n",
       "    <tr>\n",
       "      <th>0</th>\n",
       "      <td>0.727097</td>\n",
       "      <td>0.017007</td>\n",
       "      <td>0.735668</td>\n",
       "      <td>0.014856</td>\n",
       "    </tr>\n",
       "  </tbody>\n",
       "</table>\n",
       "</div>"
      ],
      "text/plain": [
       "   test-auc-mean  test-auc-std  train-auc-mean  train-auc-std\n",
       "0       0.727097      0.017007        0.735668       0.014856"
      ]
     },
     "execution_count": 110,
     "metadata": {},
     "output_type": "execute_result"
    }
   ],
   "source": [
    "cv_100"
   ]
  },
  {
   "cell_type": "code",
   "execution_count": 111,
   "metadata": {
    "collapsed": false
   },
   "outputs": [
    {
     "data": {
      "text/html": [
       "<div>\n",
       "<table border=\"1\" class=\"dataframe\">\n",
       "  <thead>\n",
       "    <tr style=\"text-align: right;\">\n",
       "      <th></th>\n",
       "      <th>test-auc-mean</th>\n",
       "      <th>test-auc-std</th>\n",
       "      <th>train-auc-mean</th>\n",
       "      <th>train-auc-std</th>\n",
       "    </tr>\n",
       "  </thead>\n",
       "  <tbody>\n",
       "    <tr>\n",
       "      <th>0</th>\n",
       "      <td>0.727164</td>\n",
       "      <td>0.015951</td>\n",
       "      <td>0.736994</td>\n",
       "      <td>0.014056</td>\n",
       "    </tr>\n",
       "  </tbody>\n",
       "</table>\n",
       "</div>"
      ],
      "text/plain": [
       "   test-auc-mean  test-auc-std  train-auc-mean  train-auc-std\n",
       "0       0.727164      0.015951        0.736994       0.014056"
      ]
     },
     "execution_count": 111,
     "metadata": {},
     "output_type": "execute_result"
    }
   ],
   "source": [
    "cv_75"
   ]
  },
  {
   "cell_type": "code",
   "execution_count": 112,
   "metadata": {
    "collapsed": false
   },
   "outputs": [
    {
     "data": {
      "text/html": [
       "<div>\n",
       "<table border=\"1\" class=\"dataframe\">\n",
       "  <thead>\n",
       "    <tr style=\"text-align: right;\">\n",
       "      <th></th>\n",
       "      <th>test-auc-mean</th>\n",
       "      <th>test-auc-std</th>\n",
       "      <th>train-auc-mean</th>\n",
       "      <th>train-auc-std</th>\n",
       "    </tr>\n",
       "  </thead>\n",
       "  <tbody>\n",
       "    <tr>\n",
       "      <th>0</th>\n",
       "      <td>0.721482</td>\n",
       "      <td>0.020765</td>\n",
       "      <td>0.732258</td>\n",
       "      <td>0.021164</td>\n",
       "    </tr>\n",
       "  </tbody>\n",
       "</table>\n",
       "</div>"
      ],
      "text/plain": [
       "   test-auc-mean  test-auc-std  train-auc-mean  train-auc-std\n",
       "0       0.721482      0.020765        0.732258       0.021164"
      ]
     },
     "execution_count": 112,
     "metadata": {},
     "output_type": "execute_result"
    }
   ],
   "source": [
    "cv_50"
   ]
  },
  {
   "cell_type": "code",
   "execution_count": 114,
   "metadata": {
    "collapsed": false
   },
   "outputs": [
    {
     "name": "stdout",
     "output_type": "stream",
     "text": [
      "Fit the model...\n"
     ]
    }
   ],
   "source": [
    "print('Fit the model...')\n",
    "boost_round = 2000 #CHANGE THIS BEFORE START\n",
    "clf = xgb.train(xgboost_params,xgtrain_150,num_boost_round=boost_round,verbose_eval=True,maximize=False)"
   ]
  },
  {
   "cell_type": "code",
   "execution_count": 118,
   "metadata": {
    "collapsed": false
   },
   "outputs": [],
   "source": [
    "test_preds = clf.predict(xgtest_150, ntree_limit=clf.best_iteration)"
   ]
  },
  {
   "cell_type": "code",
   "execution_count": 119,
   "metadata": {
    "collapsed": false
   },
   "outputs": [],
   "source": [
    "pd.DataFrame({\"ID\": testID, \"PredictedProb\": test_preds}).to_csv('cgb_param_imp.csv',index=False)"
   ]
  },
  {
   "cell_type": "code",
   "execution_count": null,
   "metadata": {
    "collapsed": true
   },
   "outputs": [],
   "source": []
  }
 ],
 "metadata": {
  "kernelspec": {
   "display_name": "Python 2",
   "language": "python",
   "name": "python2"
  },
  "language_info": {
   "codemirror_mode": {
    "name": "ipython",
    "version": 2
   },
   "file_extension": ".py",
   "mimetype": "text/x-python",
   "name": "python",
   "nbconvert_exporter": "python",
   "pygments_lexer": "ipython2",
   "version": "2.7.6"
  }
 },
 "nbformat": 4,
 "nbformat_minor": 0
}
